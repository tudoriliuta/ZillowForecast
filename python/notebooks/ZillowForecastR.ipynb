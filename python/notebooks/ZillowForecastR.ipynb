{
 "cells": [
  {
   "cell_type": "markdown",
   "metadata": {},
   "source": [
    "### Setup"
   ]
  },
  {
   "cell_type": "code",
   "execution_count": 1,
   "metadata": {},
   "outputs": [
    {
     "data": {
      "text/html": [
       "'/var/www/kaggle/zillow-forecast'"
      ],
      "text/latex": [
       "'/var/www/kaggle/zillow-forecast'"
      ],
      "text/markdown": [
       "'/var/www/kaggle/zillow-forecast'"
      ],
      "text/plain": [
       "[1] \"/var/www/kaggle/zillow-forecast\""
      ]
     },
     "metadata": {},
     "output_type": "display_data"
    }
   ],
   "source": [
    "getwd()"
   ]
  },
  {
   "cell_type": "code",
   "execution_count": 2,
   "metadata": {},
   "outputs": [
    {
     "name": "stderr",
     "output_type": "stream",
     "text": [
      "Loading required package: sp\n",
      "### Welcome to rworldmap ###\n",
      "For a short introduction type : \t vignette('rworldmap')\n"
     ]
    }
   ],
   "source": [
    "library(data.table)\n",
    "library(FSelector)\n",
    "library(rworldmap)\n",
    "library(rworldxtra)"
   ]
  },
  {
   "cell_type": "markdown",
   "metadata": {},
   "source": [
    "### Load Data"
   ]
  },
  {
   "cell_type": "code",
   "execution_count": 21,
   "metadata": {},
   "outputs": [
    {
     "name": "stderr",
     "output_type": "stream",
     "text": [
      "Warning message in fread(\"data/properties_2016.csv\"):\n",
      "“Bumped column 50 to type character on data row 10354, field contains 'true'. Coercing previously read values in this column from logical, integer or numeric back to character which may not be lossless; e.g., if '00' and '000' occurred before they will now be just '0', and there may be inconsistencies with treatment of ',,' and ',NA,' too (if they occurred in this column before the bump). If this matters please rerun and set 'colClasses' to 'character' for this column. Please note that column type detection uses a sample of 1,000 rows (100 rows at 10 points) so hopefully this message should be very rare. If reporting to datatable-help, please rerun and include the output from verbose=TRUE.”"
     ]
    },
    {
     "name": "stdout",
     "output_type": "stream",
     "text": [
      "\r",
      "Read 15.1% of 2985217 rows\r",
      "Read 30.1% of 2985217 rows\r",
      "Read 45.6% of 2985217 rows\r",
      "Read 61.0% of 2985217 rows\r",
      "Read 75.7% of 2985217 rows\r",
      "Read 89.8% of 2985217 rows\r",
      "Read 2985217 rows and 58 (of 58) columns from 0.604 GB file in 00:00:08\n"
     ]
    }
   ],
   "source": [
    "properties <- fread(\"data/properties_2016.csv\")\n",
    "training.set <- read.csv(\"data/train_2016_v2.csv\")"
   ]
  },
  {
   "cell_type": "code",
   "execution_count": 24,
   "metadata": {},
   "outputs": [
    {
     "data": {
      "text/html": [
       "<ol class=list-inline>\n",
       "\t<li>'airconditioningtypeid'</li>\n",
       "\t<li>'architecturalstyletypeid'</li>\n",
       "\t<li>'assessmentyear'</li>\n",
       "\t<li>'basementsqft'</li>\n",
       "\t<li>'bathroomcnt'</li>\n",
       "\t<li>'bedroomcnt'</li>\n",
       "\t<li>'buildingclasstypeid'</li>\n",
       "\t<li>'buildingqualitytypeid'</li>\n",
       "\t<li>'calculatedbathnbr'</li>\n",
       "\t<li>'calculatedfinishedsquarefeet'</li>\n",
       "\t<li>'censustractandblock'</li>\n",
       "\t<li>'decktypeid'</li>\n",
       "\t<li>'finishedfloor1squarefeet'</li>\n",
       "\t<li>'finishedsquarefeet12'</li>\n",
       "\t<li>'finishedsquarefeet13'</li>\n",
       "\t<li>'finishedsquarefeet15'</li>\n",
       "\t<li>'finishedsquarefeet50'</li>\n",
       "\t<li>'finishedsquarefeet6'</li>\n",
       "\t<li>'fips'</li>\n",
       "\t<li>'fireplacecnt'</li>\n",
       "\t<li>'fireplaceflag'</li>\n",
       "\t<li>'fullbathcnt'</li>\n",
       "\t<li>'garagecarcnt'</li>\n",
       "\t<li>'garagetotalsqft'</li>\n",
       "\t<li>'hashottuborspa'</li>\n",
       "\t<li>'heatingorsystemtypeid'</li>\n",
       "\t<li>'landtaxvaluedollarcnt'</li>\n",
       "\t<li>'latitude'</li>\n",
       "\t<li>'longitude'</li>\n",
       "\t<li>'lotsizesquarefeet'</li>\n",
       "\t<li>'numberofstories'</li>\n",
       "\t<li>'parcelid'</li>\n",
       "\t<li>'poolcnt'</li>\n",
       "\t<li>'poolsizesum'</li>\n",
       "\t<li>'pooltypeid10'</li>\n",
       "\t<li>'pooltypeid2'</li>\n",
       "\t<li>'pooltypeid7'</li>\n",
       "\t<li>'propertycountylandusecode'</li>\n",
       "\t<li>'propertylandusetypeid'</li>\n",
       "\t<li>'propertyzoningdesc'</li>\n",
       "\t<li>'rawcensustractandblock'</li>\n",
       "\t<li>'regionidcity'</li>\n",
       "\t<li>'regionidcounty'</li>\n",
       "\t<li>'regionidneighborhood'</li>\n",
       "\t<li>'regionidzip'</li>\n",
       "\t<li>'roomcnt'</li>\n",
       "\t<li>'storytypeid'</li>\n",
       "\t<li>'structuretaxvaluedollarcnt'</li>\n",
       "\t<li>'taxamount'</li>\n",
       "\t<li>'taxdelinquencyflag'</li>\n",
       "\t<li>'taxdelinquencyyear'</li>\n",
       "\t<li>'taxvaluedollarcnt'</li>\n",
       "\t<li>'threequarterbathnbr'</li>\n",
       "\t<li>'typeconstructiontypeid'</li>\n",
       "\t<li>'unitcnt'</li>\n",
       "\t<li>'yardbuildingsqft17'</li>\n",
       "\t<li>'yardbuildingsqft26'</li>\n",
       "\t<li>'yearbuilt'</li>\n",
       "</ol>\n"
      ],
      "text/latex": [
       "\\begin{enumerate*}\n",
       "\\item 'airconditioningtypeid'\n",
       "\\item 'architecturalstyletypeid'\n",
       "\\item 'assessmentyear'\n",
       "\\item 'basementsqft'\n",
       "\\item 'bathroomcnt'\n",
       "\\item 'bedroomcnt'\n",
       "\\item 'buildingclasstypeid'\n",
       "\\item 'buildingqualitytypeid'\n",
       "\\item 'calculatedbathnbr'\n",
       "\\item 'calculatedfinishedsquarefeet'\n",
       "\\item 'censustractandblock'\n",
       "\\item 'decktypeid'\n",
       "\\item 'finishedfloor1squarefeet'\n",
       "\\item 'finishedsquarefeet12'\n",
       "\\item 'finishedsquarefeet13'\n",
       "\\item 'finishedsquarefeet15'\n",
       "\\item 'finishedsquarefeet50'\n",
       "\\item 'finishedsquarefeet6'\n",
       "\\item 'fips'\n",
       "\\item 'fireplacecnt'\n",
       "\\item 'fireplaceflag'\n",
       "\\item 'fullbathcnt'\n",
       "\\item 'garagecarcnt'\n",
       "\\item 'garagetotalsqft'\n",
       "\\item 'hashottuborspa'\n",
       "\\item 'heatingorsystemtypeid'\n",
       "\\item 'landtaxvaluedollarcnt'\n",
       "\\item 'latitude'\n",
       "\\item 'longitude'\n",
       "\\item 'lotsizesquarefeet'\n",
       "\\item 'numberofstories'\n",
       "\\item 'parcelid'\n",
       "\\item 'poolcnt'\n",
       "\\item 'poolsizesum'\n",
       "\\item 'pooltypeid10'\n",
       "\\item 'pooltypeid2'\n",
       "\\item 'pooltypeid7'\n",
       "\\item 'propertycountylandusecode'\n",
       "\\item 'propertylandusetypeid'\n",
       "\\item 'propertyzoningdesc'\n",
       "\\item 'rawcensustractandblock'\n",
       "\\item 'regionidcity'\n",
       "\\item 'regionidcounty'\n",
       "\\item 'regionidneighborhood'\n",
       "\\item 'regionidzip'\n",
       "\\item 'roomcnt'\n",
       "\\item 'storytypeid'\n",
       "\\item 'structuretaxvaluedollarcnt'\n",
       "\\item 'taxamount'\n",
       "\\item 'taxdelinquencyflag'\n",
       "\\item 'taxdelinquencyyear'\n",
       "\\item 'taxvaluedollarcnt'\n",
       "\\item 'threequarterbathnbr'\n",
       "\\item 'typeconstructiontypeid'\n",
       "\\item 'unitcnt'\n",
       "\\item 'yardbuildingsqft17'\n",
       "\\item 'yardbuildingsqft26'\n",
       "\\item 'yearbuilt'\n",
       "\\end{enumerate*}\n"
      ],
      "text/markdown": [
       "1. 'airconditioningtypeid'\n",
       "2. 'architecturalstyletypeid'\n",
       "3. 'assessmentyear'\n",
       "4. 'basementsqft'\n",
       "5. 'bathroomcnt'\n",
       "6. 'bedroomcnt'\n",
       "7. 'buildingclasstypeid'\n",
       "8. 'buildingqualitytypeid'\n",
       "9. 'calculatedbathnbr'\n",
       "10. 'calculatedfinishedsquarefeet'\n",
       "11. 'censustractandblock'\n",
       "12. 'decktypeid'\n",
       "13. 'finishedfloor1squarefeet'\n",
       "14. 'finishedsquarefeet12'\n",
       "15. 'finishedsquarefeet13'\n",
       "16. 'finishedsquarefeet15'\n",
       "17. 'finishedsquarefeet50'\n",
       "18. 'finishedsquarefeet6'\n",
       "19. 'fips'\n",
       "20. 'fireplacecnt'\n",
       "21. 'fireplaceflag'\n",
       "22. 'fullbathcnt'\n",
       "23. 'garagecarcnt'\n",
       "24. 'garagetotalsqft'\n",
       "25. 'hashottuborspa'\n",
       "26. 'heatingorsystemtypeid'\n",
       "27. 'landtaxvaluedollarcnt'\n",
       "28. 'latitude'\n",
       "29. 'longitude'\n",
       "30. 'lotsizesquarefeet'\n",
       "31. 'numberofstories'\n",
       "32. 'parcelid'\n",
       "33. 'poolcnt'\n",
       "34. 'poolsizesum'\n",
       "35. 'pooltypeid10'\n",
       "36. 'pooltypeid2'\n",
       "37. 'pooltypeid7'\n",
       "38. 'propertycountylandusecode'\n",
       "39. 'propertylandusetypeid'\n",
       "40. 'propertyzoningdesc'\n",
       "41. 'rawcensustractandblock'\n",
       "42. 'regionidcity'\n",
       "43. 'regionidcounty'\n",
       "44. 'regionidneighborhood'\n",
       "45. 'regionidzip'\n",
       "46. 'roomcnt'\n",
       "47. 'storytypeid'\n",
       "48. 'structuretaxvaluedollarcnt'\n",
       "49. 'taxamount'\n",
       "50. 'taxdelinquencyflag'\n",
       "51. 'taxdelinquencyyear'\n",
       "52. 'taxvaluedollarcnt'\n",
       "53. 'threequarterbathnbr'\n",
       "54. 'typeconstructiontypeid'\n",
       "55. 'unitcnt'\n",
       "56. 'yardbuildingsqft17'\n",
       "57. 'yardbuildingsqft26'\n",
       "58. 'yearbuilt'\n",
       "\n",
       "\n"
      ],
      "text/plain": [
       " [1] \"airconditioningtypeid\"        \"architecturalstyletypeid\"    \n",
       " [3] \"assessmentyear\"               \"basementsqft\"                \n",
       " [5] \"bathroomcnt\"                  \"bedroomcnt\"                  \n",
       " [7] \"buildingclasstypeid\"          \"buildingqualitytypeid\"       \n",
       " [9] \"calculatedbathnbr\"            \"calculatedfinishedsquarefeet\"\n",
       "[11] \"censustractandblock\"          \"decktypeid\"                  \n",
       "[13] \"finishedfloor1squarefeet\"     \"finishedsquarefeet12\"        \n",
       "[15] \"finishedsquarefeet13\"         \"finishedsquarefeet15\"        \n",
       "[17] \"finishedsquarefeet50\"         \"finishedsquarefeet6\"         \n",
       "[19] \"fips\"                         \"fireplacecnt\"                \n",
       "[21] \"fireplaceflag\"                \"fullbathcnt\"                 \n",
       "[23] \"garagecarcnt\"                 \"garagetotalsqft\"             \n",
       "[25] \"hashottuborspa\"               \"heatingorsystemtypeid\"       \n",
       "[27] \"landtaxvaluedollarcnt\"        \"latitude\"                    \n",
       "[29] \"longitude\"                    \"lotsizesquarefeet\"           \n",
       "[31] \"numberofstories\"              \"parcelid\"                    \n",
       "[33] \"poolcnt\"                      \"poolsizesum\"                 \n",
       "[35] \"pooltypeid10\"                 \"pooltypeid2\"                 \n",
       "[37] \"pooltypeid7\"                  \"propertycountylandusecode\"   \n",
       "[39] \"propertylandusetypeid\"        \"propertyzoningdesc\"          \n",
       "[41] \"rawcensustractandblock\"       \"regionidcity\"                \n",
       "[43] \"regionidcounty\"               \"regionidneighborhood\"        \n",
       "[45] \"regionidzip\"                  \"roomcnt\"                     \n",
       "[47] \"storytypeid\"                  \"structuretaxvaluedollarcnt\"  \n",
       "[49] \"taxamount\"                    \"taxdelinquencyflag\"          \n",
       "[51] \"taxdelinquencyyear\"           \"taxvaluedollarcnt\"           \n",
       "[53] \"threequarterbathnbr\"          \"typeconstructiontypeid\"      \n",
       "[55] \"unitcnt\"                      \"yardbuildingsqft17\"          \n",
       "[57] \"yardbuildingsqft26\"           \"yearbuilt\"                   "
      ]
     },
     "metadata": {},
     "output_type": "display_data"
    }
   ],
   "source": [
    "ls(properties)"
   ]
  },
  {
   "cell_type": "code",
   "execution_count": 25,
   "metadata": {},
   "outputs": [
    {
     "data": {
      "text/html": [
       "<ol class=list-inline>\n",
       "\t<li>'logerror'</li>\n",
       "\t<li>'parcelid'</li>\n",
       "\t<li>'transactiondate'</li>\n",
       "</ol>\n"
      ],
      "text/latex": [
       "\\begin{enumerate*}\n",
       "\\item 'logerror'\n",
       "\\item 'parcelid'\n",
       "\\item 'transactiondate'\n",
       "\\end{enumerate*}\n"
      ],
      "text/markdown": [
       "1. 'logerror'\n",
       "2. 'parcelid'\n",
       "3. 'transactiondate'\n",
       "\n",
       "\n"
      ],
      "text/plain": [
       "[1] \"logerror\"        \"parcelid\"        \"transactiondate\""
      ]
     },
     "metadata": {},
     "output_type": "display_data"
    }
   ],
   "source": [
    "ls(training.set)"
   ]
  },
  {
   "cell_type": "markdown",
   "metadata": {},
   "source": [
    "### Map"
   ]
  },
  {
   "cell_type": "code",
   "execution_count": 4,
   "metadata": {},
   "outputs": [],
   "source": [
    "properties$longitude <- properties$longitude/1000000\n",
    "properties$latitude <- properties$latitude/1000000"
   ]
  },
  {
   "cell_type": "code",
   "execution_count": 5,
   "metadata": {},
   "outputs": [
    {
     "data": {
      "image/png": "[encoded data removed]",
      "text/plain": [
       "plot without title"
      ]
     },
     "metadata": {},
     "output_type": "display_data"
    }
   ],
   "source": [
    "newmap <- getMap(resolution = \"high\")\n",
    "plot(newmap, \n",
    "     xlim = c(min(properties$longitude, na.rm = TRUE), max(properties$longitude, na.rm = TRUE)), \n",
    "     ylim = c(min(properties$latitude, na.rm = TRUE), max(properties$latitude, na.rm = TRUE)), \n",
    "     asp = 1)\n",
    "\n",
    "points(properties$longitude, properties$latitude, col = \"red\", cex = .1)"
   ]
  },
  {
   "cell_type": "markdown",
   "metadata": {},
   "source": [
    "### Prepare Data"
   ]
  },
  {
   "cell_type": "code",
   "execution_count": 8,
   "metadata": {},
   "outputs": [],
   "source": [
    "training.set[is.na(training.set)] <- 0\n",
    "properties[is.na(properties)] <- 0\n",
    "properties$censustractandblock <- factor(properties$censustractandblock)\n",
    "training.set.merged <- merge(x = training.set, y = properties, by = \"parcelid\", all.x = TRUE)"
   ]
  },
  {
   "cell_type": "markdown",
   "metadata": {},
   "source": [
    "### Gain Ratio"
   ]
  },
  {
   "cell_type": "code",
   "execution_count": 9,
   "metadata": {},
   "outputs": [
    {
     "name": "stdout",
     "output_type": "stream",
     "text": [
      "                             attr_importance\n",
      "parcelid                        0.0081679029\n",
      "transactiondate                 0.0019954063\n",
      "airconditioningtypeid           0.0017371142\n",
      "architecturalstyletypeid        0.0000000000\n",
      "basementsqft                    0.0000000000\n",
      "bathroomcnt                     0.0077297568\n",
      "bedroomcnt                      0.0036417195\n",
      "buildingclasstypeid             0.0000000000\n",
      "buildingqualitytypeid           0.0068060060\n",
      "calculatedbathnbr               0.0077361662\n",
      "decktypeid                      0.0000000000\n",
      "finishedfloor1squarefeet        0.0027157643\n",
      "calculatedfinishedsquarefeet    0.0054131631\n",
      "finishedsquarefeet12            0.0084911087\n",
      "finishedsquarefeet13            0.0000000000\n",
      "finishedsquarefeet15            0.0323885343\n",
      "finishedsquarefeet50            0.0028002437\n",
      "finishedsquarefeet6             0.0192842403\n",
      "fips                            0.0091938293\n",
      "fireplacecnt                    0.0035854440\n",
      "fullbathcnt                     0.0062057334\n",
      "garagecarcnt                    0.0116310934\n",
      "garagetotalsqft                 0.0091929425\n",
      "hashottuborspa                  0.0008760003\n",
      "heatingorsystemtypeid           0.0035769473\n",
      "latitude                        0.0048137716\n",
      "longitude                       0.0060711891\n",
      "lotsizesquarefeet               0.0030989798\n",
      "poolcnt                         0.0008856146\n",
      "poolsizesum                     0.0000000000\n",
      "pooltypeid10                    0.0000000000\n",
      "pooltypeid2                     0.0000000000\n",
      "pooltypeid7                     0.0007496693\n",
      "propertycountylandusecode       0.0083054618\n",
      "propertylandusetypeid           0.0105565574\n",
      "propertyzoningdesc              0.0166353789\n",
      "rawcensustractandblock          0.0078470012\n",
      "regionidcity                    0.0061329748\n",
      "regionidcounty                  0.0091938293\n",
      "regionidneighborhood            0.0052727717\n",
      "regionidzip                     0.0067718511\n",
      "roomcnt                         0.0045078419\n",
      "storytypeid                     0.0000000000\n",
      "threequarterbathnbr             0.0093419541\n",
      "typeconstructiontypeid          0.0000000000\n",
      "unitcnt                         0.0124810266\n",
      "yardbuildingsqft17              0.0000000000\n",
      "yardbuildingsqft26              0.0000000000\n",
      "yearbuilt                       0.0108121228\n",
      "numberofstories                 0.0030407561\n",
      "fireplaceflag                   0.0003896122\n",
      "structuretaxvaluedollarcnt      0.0049383435\n",
      "taxvaluedollarcnt               0.0057151234\n",
      "assessmentyear                  0.0000000000\n",
      "landtaxvaluedollarcnt           0.0049008548\n",
      "taxamount                       0.0049083295\n",
      "taxdelinquencyflag              0.0106706175\n",
      "taxdelinquencyyear              0.0106706175\n",
      "censustractandblock             0.0894876804\n"
     ]
    }
   ],
   "source": [
    "gain.ratio.feature.weights <- gain.ratio(logerror~., training.set.merged)\n",
    "print(gain.ratio.feature.weights)"
   ]
  },
  {
   "cell_type": "code",
   "execution_count": 10,
   "metadata": {},
   "outputs": [
    {
     "name": "stdout",
     "output_type": "stream",
     "text": [
      " [1] \"censustractandblock\"   \"finishedsquarefeet15\"  \"finishedsquarefeet6\"  \n",
      " [4] \"propertyzoningdesc\"    \"unitcnt\"               \"garagecarcnt\"         \n",
      " [7] \"yearbuilt\"             \"taxdelinquencyflag\"    \"taxdelinquencyyear\"   \n",
      "[10] \"propertylandusetypeid\"\n"
     ]
    }
   ],
   "source": [
    "gain.ratio.top.features <- cutoff.k(gain.ratio.feature.weights, 10)\n",
    "print(gain.ratio.top.features)"
   ]
  },
  {
   "cell_type": "markdown",
   "metadata": {},
   "source": [
    "### Information Gain"
   ]
  },
  {
   "cell_type": "code",
   "execution_count": 11,
   "metadata": {},
   "outputs": [
    {
     "name": "stdout",
     "output_type": "stream",
     "text": [
      "                             attr_importance\n",
      "parcelid                        2.030146e-02\n",
      "transactiondate                 1.084085e-02\n",
      "airconditioningtypeid           1.232653e-03\n",
      "architecturalstyletypeid        0.000000e+00\n",
      "basementsqft                    0.000000e+00\n",
      "bathroomcnt                     1.184954e-02\n",
      "bedroomcnt                      4.977731e-03\n",
      "buildingclasstypeid             0.000000e+00\n",
      "buildingqualitytypeid           8.566429e-03\n",
      "calculatedbathnbr               1.186269e-02\n",
      "decktypeid                      0.000000e+00\n",
      "finishedfloor1squarefeet        7.565559e-04\n",
      "calculatedfinishedsquarefeet    7.663731e-03\n",
      "finishedsquarefeet12            1.375808e-02\n",
      "finishedsquarefeet13            0.000000e+00\n",
      "finishedsquarefeet15            5.385760e-03\n",
      "finishedsquarefeet50            7.809896e-04\n",
      "finishedsquarefeet6             5.724792e-04\n",
      "fips                            5.959091e-03\n",
      "fireplacecnt                    1.215332e-03\n",
      "fullbathcnt                     8.052671e-03\n",
      "garagecarcnt                    7.937533e-03\n",
      "garagetotalsqft                 5.243388e-03\n",
      "hashottuborspa                  1.062289e-04\n",
      "heatingorsystemtypeid           3.909818e-03\n",
      "latitude                        1.062611e-02\n",
      "longitude                       1.160072e-02\n",
      "lotsizesquarefeet               4.133842e-03\n",
      "poolcnt                         4.410612e-04\n",
      "poolsizesum                     0.000000e+00\n",
      "pooltypeid10                    0.000000e+00\n",
      "pooltypeid2                     0.000000e+00\n",
      "pooltypeid7                     3.589623e-04\n",
      "propertycountylandusecode       1.844089e-02\n",
      "propertylandusetypeid           8.311071e-03\n",
      "propertyzoningdesc              6.954989e-02\n",
      "rawcensustractandblock          2.032236e-02\n",
      "regionidcity                    1.351144e-02\n",
      "regionidcounty                  5.959091e-03\n",
      "regionidneighborhood            3.992435e-03\n",
      "regionidzip                     1.916001e-02\n",
      "roomcnt                         2.527056e-03\n",
      "storytypeid                     0.000000e+00\n",
      "threequarterbathnbr             3.662984e-03\n",
      "typeconstructiontypeid          0.000000e+00\n",
      "unitcnt                         1.006963e-02\n",
      "yardbuildingsqft17              0.000000e+00\n",
      "yardbuildingsqft26              0.000000e+00\n",
      "yearbuilt                       1.604566e-02\n",
      "numberofstories                 2.102300e-03\n",
      "fireplaceflag                   6.713239e-06\n",
      "structuretaxvaluedollarcnt      8.261606e-03\n",
      "taxvaluedollarcnt               1.015723e-02\n",
      "assessmentyear                  0.000000e+00\n",
      "landtaxvaluedollarcnt           7.082297e-03\n",
      "taxamount                       8.746810e-03\n",
      "taxdelinquencyflag              1.035770e-03\n",
      "taxdelinquencyyear              1.035770e-03\n",
      "censustractandblock             9.191350e-01\n"
     ]
    }
   ],
   "source": [
    "information.gain.feature.weights <- information.gain(logerror~., training.set.merged)\n",
    "print(information.gain.feature.weights)"
   ]
  },
  {
   "cell_type": "code",
   "execution_count": 12,
   "metadata": {},
   "outputs": [
    {
     "name": "stdout",
     "output_type": "stream",
     "text": [
      " [1] \"censustractandblock\"       \"propertyzoningdesc\"       \n",
      " [3] \"rawcensustractandblock\"    \"parcelid\"                 \n",
      " [5] \"regionidzip\"               \"propertycountylandusecode\"\n",
      " [7] \"yearbuilt\"                 \"finishedsquarefeet12\"     \n",
      " [9] \"regionidcity\"              \"calculatedbathnbr\"        \n"
     ]
    }
   ],
   "source": [
    "information.gain.top.features <- cutoff.k(information.gain.feature.weights, 10)\n",
    "print(information.gain.top.features)"
   ]
  },
  {
   "cell_type": "markdown",
   "metadata": {},
   "source": [
    "### Time features"
   ]
  },
  {
   "cell_type": "code",
   "execution_count": 13,
   "metadata": {},
   "outputs": [
    {
     "data": {
      "text/html": [
       "<ol class=list-inline>\n",
       "\t<li>'gmtoff'</li>\n",
       "\t<li>'hour'</li>\n",
       "\t<li>'isdst'</li>\n",
       "\t<li>'mday'</li>\n",
       "\t<li>'min'</li>\n",
       "\t<li>'mon'</li>\n",
       "\t<li>'sec'</li>\n",
       "\t<li>'wday'</li>\n",
       "\t<li>'yday'</li>\n",
       "\t<li>'year'</li>\n",
       "\t<li>'zone'</li>\n",
       "</ol>\n"
      ],
      "text/latex": [
       "\\begin{enumerate*}\n",
       "\\item 'gmtoff'\n",
       "\\item 'hour'\n",
       "\\item 'isdst'\n",
       "\\item 'mday'\n",
       "\\item 'min'\n",
       "\\item 'mon'\n",
       "\\item 'sec'\n",
       "\\item 'wday'\n",
       "\\item 'yday'\n",
       "\\item 'year'\n",
       "\\item 'zone'\n",
       "\\end{enumerate*}\n"
      ],
      "text/markdown": [
       "1. 'gmtoff'\n",
       "2. 'hour'\n",
       "3. 'isdst'\n",
       "4. 'mday'\n",
       "5. 'min'\n",
       "6. 'mon'\n",
       "7. 'sec'\n",
       "8. 'wday'\n",
       "9. 'yday'\n",
       "10. 'year'\n",
       "11. 'zone'\n",
       "\n",
       "\n"
      ],
      "text/plain": [
       " [1] \"gmtoff\" \"hour\"   \"isdst\"  \"mday\"   \"min\"    \"mon\"    \"sec\"    \"wday\"  \n",
       " [9] \"yday\"   \"year\"   \"zone\"  "
      ]
     },
     "metadata": {},
     "output_type": "display_data"
    }
   ],
   "source": [
    "date.info <- unclass(as.POSIXlt(training.set.merged$transactiondate))\n",
    "ls(date.info)"
   ]
  },
  {
   "cell_type": "code",
   "execution_count": 16,
   "metadata": {},
   "outputs": [],
   "source": [
    "date.feature.names <- c(\"mday\", \"mon\", \"year\", \"yday\")\n",
    "training.set.merged[date.feature.names] <- date.info[date.feature.names]"
   ]
  },
  {
   "cell_type": "markdown",
   "metadata": {},
   "source": [
    "### All Features"
   ]
  },
  {
   "cell_type": "code",
   "execution_count": 18,
   "metadata": {},
   "outputs": [],
   "source": [
    "training.set <- subset(training.set.merged, select = unique(c(gain.ratio.top.features, information.gain.top.features, date.feature.names, \"logerror\")))\n",
    "test.set <- subset(properties, select = c(gain.ratio.top.features, information.gain.top.features))\n",
    "results <- subset(properties, select= \"parcelid\")"
   ]
  },
  {
   "cell_type": "code",
   "execution_count": null,
   "metadata": {},
   "outputs": [],
   "source": []
  }
 ],
 "metadata": {
  "kernelspec": {
   "display_name": "R",
   "language": "R",
   "name": "ir"
  },
  "language_info": {
   "codemirror_mode": "r",
   "file_extension": ".r",
   "mimetype": "text/x-r-source",
   "name": "R",
   "pygments_lexer": "r",
   "version": "3.4.2"
  }
 },
 "nbformat": 4,
 "nbformat_minor": 2
}
